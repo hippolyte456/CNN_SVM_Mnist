{
 "cells": [
  {
   "cell_type": "code",
   "execution_count": 1,
   "metadata": {},
   "outputs": [
    {
     "data": {
      "text/plain": [
       "384"
      ]
     },
     "execution_count": 1,
     "metadata": {},
     "output_type": "execute_result"
    }
   ],
   "source": [
    "##### NEEDED EXECUTION FOR GOOGLE COLAB #####\n",
    "\n",
    "# #on importe notre google drive sur le serveur distant de Google \n",
    "# from google.colab import drive\n",
    "# drive.mount('/gdrive')\n",
    "\n",
    "# #penser à faire les importation de package qui ne sont pas nativement present sur le serveur \n",
    "# !pip install ray[tune]\n",
    "\n",
    "# #save des resultats : attention à ne pas les sauvegarder seulement sur le serveur Google, mais à les sauvegarder dans notre drive.\n",
    "# drivefolder = \"\"\n",
    "\n",
    "# #notre terminal pour se deplacer sur le serveur distant \n",
    "# %cd digit-recognizer\n",
    "# !ls"
   ]
  },
  {
   "cell_type": "code",
   "execution_count": 14,
   "metadata": {},
   "outputs": [],
   "source": [
    "import pandas as pd\n",
    "from sklearn.model_selection import train_test_split\n",
    "import numpy as np\n",
    "\n",
    "data = pd.read_csv('train.csv')\n",
    "data_test = pd.read_csv('test.csv')\n",
    "data_train, data_val = train_test_split(data ,test_size=0.1, random_state=10, shuffle=True)\n"
   ]
  },
  {
   "cell_type": "code",
   "execution_count": 1,
   "metadata": {},
   "outputs": [],
   "source": [
    "from torchvision import transforms\n",
    "from torch.utils.data import Dataset, DataLoader\n",
    "import torch\n",
    "\n",
    "###################################################################################\n",
    "'''\n",
    "Pour la prochaine fois : manière assez clair de transformer les rawdata, séparer x et y et tout convertir en torch dès le init. \n",
    "Et dans le len / getitem on met presque rien, sauf la fontion transform de pytorch\n",
    " '''\n",
    "\n",
    "class MNISTDataset(Dataset):\n",
    "    def __init__(self, data,transform=None, is_test=False):\n",
    "        super().__init__()\n",
    "        self.dataset = data\n",
    "        self.transform=transform\n",
    "        self.is_test = is_test\n",
    "        \n",
    "    def __len__(self):\n",
    "        return len(self.dataset)\n",
    "\n",
    "    def __getitem__(self, index):\n",
    "        data = self.dataset.iloc[index].to_numpy()\n",
    "        if self.is_test:\n",
    "            label = None                            #il faut dire ce qui est le Y et ce qui est le X pour chaque ligne \n",
    "            image = data.reshape(28, 28)\n",
    "        else:\n",
    "            label = data[0]                             #il faut dire ce qui est le Y et ce qui est le X pour chaque ligne \n",
    "            image = data[1:].reshape(28, 28)\n",
    "        if self.transform is not None:\n",
    "            image = self.transform(image.astype(np.float32))\n",
    "        return image, label\n",
    "        \n",
    "transform = transforms.Compose([transforms.ToPILImage(),transforms.ToTensor()])"
   ]
  },
  {
   "cell_type": "code",
   "execution_count": 16,
   "metadata": {},
   "outputs": [
    {
     "data": {
      "text/plain": [
       "3"
      ]
     },
     "execution_count": 16,
     "metadata": {},
     "output_type": "execute_result"
    }
   ],
   "source": [
    "#on crée une classe enfant de la classe Dataset de torch, qui permet de convertir en tenseur\n",
    "Tdata_train = MNISTDataset(data_train, transform= transform)\n",
    "Tdata_val = MNISTDataset(data_val,  transform= transform)\n",
    "Tdata_test = MNISTDataset(data_test, transform= transform, is_test=True)\n",
    "\n",
    "#important que le label soit un tenseur ou pas ? \n",
    "Tdata_train[0][1]"
   ]
  },
  {
   "cell_type": "code",
   "execution_count": 17,
   "metadata": {},
   "outputs": [
    {
     "data": {
      "image/png": "[encoded data removed]",
      "text/plain": [
       "<Figure size 432x288 with 1 Axes>"
      ]
     },
     "metadata": {
      "needs_background": "light"
     },
     "output_type": "display_data"
    }
   ],
   "source": [
    "#affichage d'une image au hasard et du label associé\n",
    "import matplotlib.pyplot as plt\n",
    "i = np.random.randint(0, len(Tdata_train))\n",
    "plt.imshow(Tdata_train[i][0].reshape(28,28))\n",
    "plt.title(Tdata_train[i][1])\n",
    "plt.show()"
   ]
  },
  {
   "cell_type": "code",
   "execution_count": 18,
   "metadata": {},
   "outputs": [],
   "source": [
    "#mise en forme de batches des données (DataLoader)\n",
    "torch.manual_seed(1)\n",
    "batch_size= 16\n",
    "DL_train = DataLoader(Tdata_train,batch_size,shuffle=True)\n",
    "DL_val = DataLoader(Tdata_val,batch_size,shuffle=True)"
   ]
  },
  {
   "cell_type": "code",
   "execution_count": 7,
   "metadata": {},
   "outputs": [],
   "source": [
    "# et sans utiliser le DataLoader ça donne quoi ? (à faire pour mieux comprendre)"
   ]
  },
  {
   "attachments": {},
   "cell_type": "markdown",
   "metadata": {},
   "source": [
    "## 1/ CNN model\n",
    "\n",
    "### a/ Construction"
   ]
  },
  {
   "cell_type": "code",
   "execution_count": 19,
   "metadata": {},
   "outputs": [],
   "source": [
    "from torch import nn\n",
    "from torch.nn import functional as F\n",
    "from torch import optim\n",
    "\n",
    "#construction d'un CNN paramétrable \n",
    "class MyCNN(nn.Module):\n",
    "    def __init__(self,pooling = nn.MaxPool2d, conv = nn.Conv2d, kernel1 = 5, kernel2 = 5, nb_channel1 = 16, nb_channel2 = 16):\n",
    "        super().__init__()\n",
    "        self.image_size = 28\n",
    "\n",
    "        self.conv1 = conv(in_channels=1, out_channels= nb_channel1, kernel_size = kernel1)\n",
    "        self.image_size = self.image_size - (self.conv1.kernel_size[0] - 1)\n",
    "\n",
    "        self.pool1 = pooling(kernel_size = 3, stride = 1)\n",
    "        self.image_size = self.image_size - (self.pool1.kernel_size - 1)\n",
    "        \n",
    "        self.conv2 = conv(in_channels=16, out_channels= nb_channel2, kernel_size = kernel2)\n",
    "        self.image_size = self.image_size - (self.conv2.kernel_size[0] - 1)\n",
    "\n",
    "        self.pool2 = pooling(kernel_size = 3, stride = 1)\n",
    "        self.image_size = self.image_size - (self.pool2.kernel_size - 1)\n",
    "       \n",
    "        '''\n",
    "        comment faire pour recuperer la taille de l'output après un certain modèle ?\n",
    "        plutot que de calculer avec les formules ... \n",
    "        '''\n",
    "\n",
    "        torch.nn.init.xavier_uniform_(self.conv1.weight)\n",
    "        torch.nn.init.xavier_uniform_(self.conv2.weight)\n",
    "\n",
    "        self.input_classifier = nb_channel2*self.image_size**2\n",
    "        self.lin1 = nn.Linear(self.input_classifier,120)\n",
    "        self.lin2 = nn.Linear(120, 10)\n",
    "        \n",
    "        self.features   = nn.Sequential(self.conv1,nn.ReLU(),self.pool1,self.conv2,nn.ReLU(),self.pool2)\n",
    "        self.classifier = nn.Sequential(self.lin1,nn.ReLU(),self.lin2)\n",
    "        \n",
    "    def forward(self, x):\n",
    "        x = self.features(x)\n",
    "        x = self.classifier(x.view(x.size(0), -1))\n",
    "        return x\n",
    "\n"
   ]
  },
  {
   "attachments": {},
   "cell_type": "markdown",
   "metadata": {},
   "source": [
    "### b/ Training"
   ]
  },
  {
   "cell_type": "code",
   "execution_count": 20,
   "metadata": {},
   "outputs": [],
   "source": [
    "from tqdm import tqdm\n",
    "from torch.utils.tensorboard import SummaryWriter\n",
    "\n",
    "def accuracy(yhat,y):\n",
    "    # y encode les indexes, s'assurer de la bonne taille de tenseur\n",
    "    assert len(y.shape)==1 or y.size(1)==1\n",
    "    return (torch.argmax(yhat,1).view(y.size(0),-1)== y.view(-1,1)).double().mean()\n",
    "    \n",
    "\n",
    "\"\"\"TO DOOOOOO\"\"\"\n",
    "#paramétrer l'optimiseur, la loss, la taille de batch, \n",
    "# rajouter un stop si la loss en validation augmente...patience et early stopping\n",
    "def train(model,epochs,train_loader,test_loader, writer = None, device = 'cpu', lr = 1e-3): \n",
    "    optim = torch.optim.Adam(model.parameters(),lr = lr)    # choix optimizer\n",
    "    model = model.to(device)\n",
    "    print(f\"running {model.name}\")\n",
    "    loss = nn.CrossEntropyLoss()                            # choix loss\n",
    "    \n",
    "    for epoch in tqdm(range(epochs)):\n",
    "        cumloss, cumacc, count = 0, 0, 0\n",
    "        model.train()\n",
    "        for x,y in train_loader:                           # boucle sur les batchs  \n",
    "            optim.zero_grad()\n",
    "            x,y = x.to(device), y.to(device)                # y doit être un tensor (pas un int)\n",
    "            yhat = model(x)\n",
    "            l = loss(yhat,y)\n",
    "            l.backward()\n",
    "            optim.step()\n",
    "            cumloss += l*len(x)                             # attention, il peut y avoir un batch + petit (le dernier)\n",
    "            cumacc += accuracy(yhat,y)*len(x)\n",
    "            count += len(x)\n",
    "        if writer != None:\n",
    "            writer.add_scalar('loss/train',cumloss/count,epoch)\n",
    "            writer.add_scalar('accuracy/train',cumacc/count,epoch)\n",
    "            print(cumloss/count)\n",
    "        \n",
    "        if epoch % 1 == 0:\n",
    "            model.eval()\n",
    "            with torch.no_grad():\n",
    "                cumloss, cumacc, count = 0, 0, 0\n",
    "                for x,y in test_loader:\n",
    "                    x,y = x.to(device), y.to(device)\n",
    "                    yhat = model(x)\n",
    "                    cumloss += loss(yhat,y)*len(x)\n",
    "                    cumacc += accuracy(yhat,y)*len(x)\n",
    "                    count += len(x)\n",
    "                if writer != None:\n",
    "                    writer.add_scalar(f'loss/test',cumloss/count,epoch)\n",
    "                    writer.add_scalar('accuracy/test',cumacc/count,epoch)\n",
    "                print('                ' + str(cumloss/count))"
   ]
  },
  {
   "cell_type": "code",
   "execution_count": 21,
   "metadata": {},
   "outputs": [],
   "source": [
    "def model_test(model,Data_eval, device = 'cpu'):\n",
    "    true_pred = 0\n",
    "    tot_pred = 0\n",
    "    model.eval()\n",
    "    with torch.no_grad():\n",
    "        for x,y in Data_eval:\n",
    "            x,y = x.to(device), y.to(device)\n",
    "            tot_pred += 1\n",
    "            yhat = model(x).argmax(1)\n",
    "            if yhat == y:\n",
    "                true_pred += 1\n",
    "    return true_pred / tot_pred*100"
   ]
  },
  {
   "attachments": {},
   "cell_type": "markdown",
   "metadata": {},
   "source": [
    "### c/ Run and save a model"
   ]
  },
  {
   "cell_type": "code",
   "execution_count": 22,
   "metadata": {},
   "outputs": [],
   "source": [
    "import os\n",
    "\n",
    "def save_model(model,fichier): # pas de sauvegarde de l'optimiseur ici\n",
    "      \"\"\" sauvegarde du modèle dans fichier \"\"\"\n",
    "      state = {'model_state': model.state_dict()}\n",
    "      torch.save(state,fichier) # pas besoin de passer par pickle\n",
    " \n",
    "def load_model(fichier,model):\n",
    "      \"\"\" Si le fichier existe, on charge le modèle  \"\"\"\n",
    "      if os.path.isfile(fichier):\n",
    "            state = torch.load(fichier)\n",
    "            model.load_state_dict(state['model_state'])"
   ]
  },
  {
   "cell_type": "code",
   "execution_count": 1,
   "metadata": {},
   "outputs": [
    {
     "ename": "NameError",
     "evalue": "name 'MyCNN' is not defined",
     "output_type": "error",
     "traceback": [
      "\u001b[0;31m---------------------------------------------------------------------------\u001b[0m",
      "\u001b[0;31mNameError\u001b[0m                                 Traceback (most recent call last)",
      "\u001b[1;32m/home/hippo/Documents/digit-recognizer/HD_analysis.ipynb Cellule 15\u001b[0m in \u001b[0;36m<cell line: 5>\u001b[0;34m()\u001b[0m\n\u001b[1;32m      <a href='vscode-notebook-cell:/home/hippo/Documents/digit-recognizer/HD_analysis.ipynb#X16sZmlsZQ%3D%3D?line=1'>2</a>\u001b[0m \u001b[39mimport\u001b[39;00m \u001b[39mtime\u001b[39;00m \n\u001b[1;32m      <a href='vscode-notebook-cell:/home/hippo/Documents/digit-recognizer/HD_analysis.ipynb#X16sZmlsZQ%3D%3D?line=3'>4</a>\u001b[0m device \u001b[39m=\u001b[39m \u001b[39m'\u001b[39m\u001b[39mcpu\u001b[39m\u001b[39m'\u001b[39m\n\u001b[0;32m----> <a href='vscode-notebook-cell:/home/hippo/Documents/digit-recognizer/HD_analysis.ipynb#X16sZmlsZQ%3D%3D?line=4'>5</a>\u001b[0m model \u001b[39m=\u001b[39m MyCNN()\u001b[39m.\u001b[39mto(device)\n\u001b[1;32m      <a href='vscode-notebook-cell:/home/hippo/Documents/digit-recognizer/HD_analysis.ipynb#X16sZmlsZQ%3D%3D?line=5'>6</a>\u001b[0m model\u001b[39m.\u001b[39mname\u001b[39m=\u001b[39m\u001b[39m\"\u001b[39m\u001b[39m1stConv-\u001b[39m\u001b[39m\"\u001b[39m\u001b[39m+\u001b[39mtime\u001b[39m.\u001b[39masctime() \n\u001b[1;32m      <a href='vscode-notebook-cell:/home/hippo/Documents/digit-recognizer/HD_analysis.ipynb#X16sZmlsZQ%3D%3D?line=6'>7</a>\u001b[0m \u001b[39m'''attention il faut que le nom du fichier contienne toutes les infos sur les hyperparamètres utilisés dans le modèle, \u001b[39;00m\n\u001b[1;32m      <a href='vscode-notebook-cell:/home/hippo/Documents/digit-recognizer/HD_analysis.ipynb#X16sZmlsZQ%3D%3D?line=7'>8</a>\u001b[0m \u001b[39mpour pouvoir le recharger ensuite (ou bien sauvegardé en plus un fichier de la configuration du modèle utilisé'''\u001b[39;00m\n",
      "\u001b[0;31mNameError\u001b[0m: name 'MyCNN' is not defined"
     ]
    }
   ],
   "source": [
    "### entraineemnt long des modèle en DL, il faut privilégier de charger un modèle (puis fine-tuning)\n",
    "import time \n",
    "\n",
    "device = 'cpu'\n",
    "model = MyCNN().to(device)\n",
    "model.name=\"1stConv-\"+time.asctime() \n",
    "'''attention il faut que le nom du fichier contienne toutes les infos sur les hyperparamètres utilisés dans le modèle, \n",
    "pour pouvoir le recharger ensuite (ou bien sauvegardé en plus un fichier de la configuration du modèle utilisé'''\n",
    "#writer = SummaryWriter(f\"runs/\")\n",
    "epochs = 20\n",
    "train(model, epochs, DL_train, DL_val)\n",
    "file = model.name\n",
    "save_model(model,'models/' + file)"
   ]
  },
  {
   "attachments": {},
   "cell_type": "markdown",
   "metadata": {},
   "source": [
    "### d/ Comparaison de modèles et optimisation\n",
    "\n",
    "* optimisation des pretraitements // features engineering\n",
    "* On effectue un GridSearch des hyperparamètres de notre modèle\n",
    "* On optimise l'accuracy avec un grand nombre d'initialisation de poids différents\n",
    "* Utilisation de méthodes d'ensemble\n",
    "* Evolution de l'architecture du modèle"
   ]
  },
  {
   "attachments": {},
   "cell_type": "markdown",
   "metadata": {},
   "source": [
    "Pas réussi à utiliser correctement raytune...\n",
    "______________________________________________________________________________________________________________________________\n"
   ]
  },
  {
   "cell_type": "code",
   "execution_count": 10,
   "metadata": {},
   "outputs": [],
   "source": [
    "#USE OF RAY TUNE for the gridsearch of hyperparameters\n",
    "from ray import tune\n",
    "from ray.tune import CLIReporter\n",
    "from ray.tune.schedulers import ASHAScheduler\n",
    "from functools import partial"
   ]
  },
  {
   "cell_type": "code",
   "execution_count": 11,
   "metadata": {},
   "outputs": [],
   "source": [
    "# on a besoin de redefinir une fonction de train qui va etre appelée par tune.run\n",
    "# la fonction doit incorporer l'initialisation du modèle avec les hyperparamètres données par le config, \n",
    "# en plus de l'entrainement du modèle\n",
    "\n",
    "#on incorpore dans la fonction de train un paramètre config qui contient les hyperparamètres\n",
    "def ray_train(config, trainloader, valloader, checkpoint_dir=None, epochs = 10):\n",
    "\n",
    "    #init le reseau et les paramètres d'optimisations\n",
    "    net = MyCNN(config[\"kernel1\"], config[\"kernel2\"])\n",
    "    loss = nn.CrossEntropyLoss()\n",
    "    optimizer = optim.SGD(net.parameters(), lr=config[\"lr\"], momentum=0.9)\n",
    "\n",
    "\n",
    "    #choose device\n",
    "    device = \"cpu\"\n",
    "    if torch.cuda.is_available():\n",
    "        device = \"cuda:0\"\n",
    "        if torch.cuda.device_count() > 1:\n",
    "            net = nn.DataParallel(net)\n",
    "    net.to(device)\n",
    "\n",
    "\n",
    "    #load checkpoint\n",
    "    if checkpoint_dir:\n",
    "        model_state, optimizer_state = torch.load(os.path.join(checkpoint_dir, \"checkpoint\"))\n",
    "        net.load_state_dict(model_state)\n",
    "        optimizer.load_state_dict(optimizer_state)\n",
    "\n",
    "    ###### optimization des poids du réseau (boucle d'entraineemnt avec incorporation de tune #########\n",
    "    print(f\"running {net.name}\")\n",
    "    for epoch in tqdm(range(epochs)):\n",
    "        cumloss, cumacc, count = 0, 0, 0\n",
    "        net.train()\n",
    "        for x,y in trainloader:                           # boucle sur les batchs  \n",
    "            optimizer.zero_grad()\n",
    "            x,y = x.to(device), y.to(device)                # y doit être un tensor (pas un int)\n",
    "            yhat = net(x)\n",
    "            l = loss(yhat,y)\n",
    "            l.backward()\n",
    "            optimizer.step()\n",
    "            cumloss += l*len(x)                             # attention, il peut y avoir un batch + petit (le dernier)\n",
    "            cumacc += accuracy(yhat,y)*len(x)\n",
    "            count += len(x)\n",
    "        \n",
    "        cumloss, cumacc, count = 0, 0, 0\n",
    "        if epoch % 1 == 0:\n",
    "            net.eval()\n",
    "            with torch.no_grad():\n",
    "                \n",
    "                for x,y in valloader:\n",
    "                    x,y = x.to(device), y.to(device)\n",
    "                    yhat = net(x)\n",
    "                    cumloss += loss(yhat,y)*len(x)\n",
    "                    cumacc += accuracy(yhat,y)*len(x)\n",
    "                    count += len(x)\n",
    "\n",
    "        with tune.checkpoint_dir(epoch) as checkpoint_dir:\n",
    "            path = os.path.join(checkpoint_dir, \"checkpoint\")\n",
    "            torch.save((net.state_dict(), optimizer.state_dict()), path)\n",
    "\n",
    "        tune.report(loss=(cumloss / count), accuracy = cumacc)\n",
    "    print(\"Finished Training\") \n",
    "  \n"
   ]
  },
  {
   "cell_type": "code",
   "execution_count": null,
   "metadata": {},
   "outputs": [],
   "source": [
    "#lancement de ray.tune pour la recherche des hyperparamètres\n",
    "max_num_epochs = 5\n",
    "gpus_per_trial = 0\n",
    "num_samples = 2\n",
    "\n",
    "# on definit les parametres à    optimiser\n",
    "config = {\n",
    "        \"kernel1\" : tune.choice([3, 5, 9]), \n",
    "        \"kernel2\" : tune.choice([3, 5, 9]),\n",
    "        \"lr\": tune.loguniform(1e-4, 1e-1),\n",
    "        # \"l1\": tune.sample_from(lambda _: 2 ** np.random.randint(2, 9)),\n",
    "        # \"l2\": tune.sample_from(lambda _: 2 ** np.random.randint(2, 9)),\n",
    "        # \"batch_size\": tune.choice([2, 4, 8, 16])\n",
    "    }\n",
    "\n",
    "#definit un scheduler qui interrompera les entrainements qui ne progressent pas\n",
    "scheduler = ASHAScheduler(\n",
    "    metric=\"loss\",\n",
    "    mode=\"min\",\n",
    "    max_t=max_num_epochs,\n",
    "    grace_period=1,\n",
    "    reduction_factor=2)\n",
    "\n",
    "#definit un reporter qui affiche les resultats\n",
    "reporter = CLIReporter(\n",
    "    # parameter_columns=[\"l1\", \"l2\", \"lr\", \"batch_size\"],\n",
    "    metric_columns=[\"loss\", \"accuracy\", \"training_iteration\"])\n",
    "\n",
    "\n",
    "#entrainement du réseau en passant par raytune, on peut préciser les ressources utilisées pour chaque entrainement\n",
    "result = tune.run(\n",
    "    partial(ray_train, trainloader= DL_train, valloader= DL_val),\n",
    "    resources_per_trial={\"cpu\": 1, \"gpu\": gpus_per_trial},\n",
    "    config=config,\n",
    "    num_samples=num_samples,\n",
    "    scheduler=scheduler,\n",
    "    progress_reporter=reporter)"
   ]
  },
  {
   "cell_type": "code",
   "execution_count": null,
   "metadata": {},
   "outputs": [],
   "source": [
    "# on récupère le meilleur modèle (avec les meilleurs hyperparamètres)\n",
    "best_trial = result.get_best_trial(\"loss\", \"min\", \"last\")\n",
    "print(\"Best trial config: {}\".format(best_trial.config))\n",
    "print(\"Best trial final validation loss: {}\".format(best_trial.last_result[\"loss\"]))\n",
    "print(\"Best trial final validation accuracy: {}\".format(best_trial.last_result[\"accuracy\"]))\n",
    "\n",
    "\n",
    "#on récupère la configuration des poids du modèle après entrainements\n",
    "best_trained_model = MyCNN(best_trial.config[\"kernel1\"], best_trial.config[\"kernel2\"])\n",
    "device = \"cpu\"\n",
    "\n",
    "#modif du modele selon les ressources \n",
    "if torch.cuda.is_available():\n",
    "    device = \"cuda:0\"\n",
    "    if gpus_per_trial > 1:\n",
    "        best_trained_model = nn.DataParallel(best_trained_model)\n",
    "best_trained_model.to(device)\n",
    "\n",
    "#on récupère les poids du modèle qui l'ont conduit à être le meilleur... cela n'empeche pas de réentrainer après)\n",
    "best_checkpoint_dir = best_trial.checkpoint.value\n",
    "model_state, optimizer_state = torch.load(os.path.join(best_checkpoint_dir, \"checkpoint\"))\n",
    "best_trained_model.load_state_dict(model_state)\n",
    "\n",
    "# on teste le modèle sur le jeu de test\n",
    "print('Apres avoir tester le modèle sur jeu de test, accuracy = ...')\n",
    "# test_acc = test_accuracy(best_trained_model, device)\n",
    "# print(\"Best trial test set accuracy: {}\".format(test_acc))"
   ]
  },
  {
   "attachments": {},
   "cell_type": "markdown",
   "metadata": {},
   "source": [
    "_______________________________________________________________________________________________________________________________"
   ]
  },
  {
   "cell_type": "code",
   "execution_count": 23,
   "metadata": {},
   "outputs": [
    {
     "name": "stdout",
     "output_type": "stream",
     "text": [
      "running 1stConv-{'kernel1': 3, 'kernel2': 3, 'nb_channel1': 8, 'nb_channel2': 8, 'pooling': <class 'torch.nn.modules.pooling.MaxPool2d'>}\n"
     ]
    },
    {
     "name": "stderr",
     "output_type": "stream",
     "text": [
      "  0%|          | 0/5 [00:03<?, ?it/s]\n"
     ]
    },
    {
     "ename": "KeyboardInterrupt",
     "evalue": "",
     "output_type": "error",
     "traceback": [
      "\u001b[0;31m---------------------------------------------------------------------------\u001b[0m",
      "\u001b[0;31mKeyboardInterrupt\u001b[0m                         Traceback (most recent call last)",
      "\u001b[1;32m/home/hippo/Documents/CNN_SVM_Mnist/HD_analysis.ipynb Cellule 23\u001b[0m in \u001b[0;36m<cell line: 27>\u001b[0;34m()\u001b[0m\n\u001b[1;32m     <a href='vscode-notebook-cell:/home/hippo/Documents/CNN_SVM_Mnist/HD_analysis.ipynb#X31sZmlsZQ%3D%3D?line=30'>31</a>\u001b[0m \u001b[39m'''attention il faut que le nom du fichier contienne toutes les infos sur les hyperparamètres utilisés dans le modèle, \u001b[39;00m\n\u001b[1;32m     <a href='vscode-notebook-cell:/home/hippo/Documents/CNN_SVM_Mnist/HD_analysis.ipynb#X31sZmlsZQ%3D%3D?line=31'>32</a>\u001b[0m \u001b[39mpour pouvoir le recharger ensuite (ou bien sauvegarder en plus un fichier de la configuration du modèle utilisé'''\u001b[39;00m\n\u001b[1;32m     <a href='vscode-notebook-cell:/home/hippo/Documents/CNN_SVM_Mnist/HD_analysis.ipynb#X31sZmlsZQ%3D%3D?line=32'>33</a>\u001b[0m epochs \u001b[39m=\u001b[39m \u001b[39m5\u001b[39m\n\u001b[0;32m---> <a href='vscode-notebook-cell:/home/hippo/Documents/CNN_SVM_Mnist/HD_analysis.ipynb#X31sZmlsZQ%3D%3D?line=33'>34</a>\u001b[0m train(model, epochs, DL_train, DL_val) \u001b[39m#ajouter le early stopping !!!!!!!\u001b[39;00m\n\u001b[1;32m     <a href='vscode-notebook-cell:/home/hippo/Documents/CNN_SVM_Mnist/HD_analysis.ipynb#X31sZmlsZQ%3D%3D?line=34'>35</a>\u001b[0m DL_test \u001b[39m=\u001b[39m DataLoader(Tdata_val,\u001b[39m1\u001b[39m,shuffle\u001b[39m=\u001b[39m\u001b[39mTrue\u001b[39;00m)\n\u001b[1;32m     <a href='vscode-notebook-cell:/home/hippo/Documents/CNN_SVM_Mnist/HD_analysis.ipynb#X31sZmlsZQ%3D%3D?line=35'>36</a>\u001b[0m acc \u001b[39m=\u001b[39m model_test(model, DL_test)\n",
      "\u001b[1;32m/home/hippo/Documents/CNN_SVM_Mnist/HD_analysis.ipynb Cellule 23\u001b[0m in \u001b[0;36mtrain\u001b[0;34m(model, epochs, train_loader, test_loader, writer, device, lr)\u001b[0m\n\u001b[1;32m     <a href='vscode-notebook-cell:/home/hippo/Documents/CNN_SVM_Mnist/HD_analysis.ipynb#X31sZmlsZQ%3D%3D?line=22'>23</a>\u001b[0m optim\u001b[39m.\u001b[39mzero_grad()\n\u001b[1;32m     <a href='vscode-notebook-cell:/home/hippo/Documents/CNN_SVM_Mnist/HD_analysis.ipynb#X31sZmlsZQ%3D%3D?line=23'>24</a>\u001b[0m x,y \u001b[39m=\u001b[39m x\u001b[39m.\u001b[39mto(device), y\u001b[39m.\u001b[39mto(device)                \u001b[39m# y doit être un tensor (pas un int)\u001b[39;00m\n\u001b[0;32m---> <a href='vscode-notebook-cell:/home/hippo/Documents/CNN_SVM_Mnist/HD_analysis.ipynb#X31sZmlsZQ%3D%3D?line=24'>25</a>\u001b[0m yhat \u001b[39m=\u001b[39m model(x)\n\u001b[1;32m     <a href='vscode-notebook-cell:/home/hippo/Documents/CNN_SVM_Mnist/HD_analysis.ipynb#X31sZmlsZQ%3D%3D?line=25'>26</a>\u001b[0m l \u001b[39m=\u001b[39m loss(yhat,y)\n\u001b[1;32m     <a href='vscode-notebook-cell:/home/hippo/Documents/CNN_SVM_Mnist/HD_analysis.ipynb#X31sZmlsZQ%3D%3D?line=26'>27</a>\u001b[0m l\u001b[39m.\u001b[39mbackward()\n",
      "File \u001b[0;32m~/anaconda3/lib/python3.9/site-packages/torch/nn/modules/module.py:1194\u001b[0m, in \u001b[0;36mModule._call_impl\u001b[0;34m(self, *input, **kwargs)\u001b[0m\n\u001b[1;32m   1190\u001b[0m \u001b[39m# If we don't have any hooks, we want to skip the rest of the logic in\u001b[39;00m\n\u001b[1;32m   1191\u001b[0m \u001b[39m# this function, and just call forward.\u001b[39;00m\n\u001b[1;32m   1192\u001b[0m \u001b[39mif\u001b[39;00m \u001b[39mnot\u001b[39;00m (\u001b[39mself\u001b[39m\u001b[39m.\u001b[39m_backward_hooks \u001b[39mor\u001b[39;00m \u001b[39mself\u001b[39m\u001b[39m.\u001b[39m_forward_hooks \u001b[39mor\u001b[39;00m \u001b[39mself\u001b[39m\u001b[39m.\u001b[39m_forward_pre_hooks \u001b[39mor\u001b[39;00m _global_backward_hooks\n\u001b[1;32m   1193\u001b[0m         \u001b[39mor\u001b[39;00m _global_forward_hooks \u001b[39mor\u001b[39;00m _global_forward_pre_hooks):\n\u001b[0;32m-> 1194\u001b[0m     \u001b[39mreturn\u001b[39;00m forward_call(\u001b[39m*\u001b[39;49m\u001b[39minput\u001b[39;49m, \u001b[39m*\u001b[39;49m\u001b[39m*\u001b[39;49mkwargs)\n\u001b[1;32m   1195\u001b[0m \u001b[39m# Do not call functions when jit is used\u001b[39;00m\n\u001b[1;32m   1196\u001b[0m full_backward_hooks, non_full_backward_hooks \u001b[39m=\u001b[39m [], []\n",
      "\u001b[1;32m/home/hippo/Documents/CNN_SVM_Mnist/HD_analysis.ipynb Cellule 23\u001b[0m in \u001b[0;36mMyCNN.forward\u001b[0;34m(self, x)\u001b[0m\n\u001b[1;32m     <a href='vscode-notebook-cell:/home/hippo/Documents/CNN_SVM_Mnist/HD_analysis.ipynb#X31sZmlsZQ%3D%3D?line=37'>38</a>\u001b[0m \u001b[39mdef\u001b[39;00m \u001b[39mforward\u001b[39m(\u001b[39mself\u001b[39m, x):\n\u001b[0;32m---> <a href='vscode-notebook-cell:/home/hippo/Documents/CNN_SVM_Mnist/HD_analysis.ipynb#X31sZmlsZQ%3D%3D?line=38'>39</a>\u001b[0m     x \u001b[39m=\u001b[39m \u001b[39mself\u001b[39;49m\u001b[39m.\u001b[39;49mfeatures(x)\n\u001b[1;32m     <a href='vscode-notebook-cell:/home/hippo/Documents/CNN_SVM_Mnist/HD_analysis.ipynb#X31sZmlsZQ%3D%3D?line=39'>40</a>\u001b[0m     x \u001b[39m=\u001b[39m \u001b[39mself\u001b[39m\u001b[39m.\u001b[39mclassifier(x\u001b[39m.\u001b[39mview(x\u001b[39m.\u001b[39msize(\u001b[39m0\u001b[39m), \u001b[39m-\u001b[39m\u001b[39m1\u001b[39m))\n\u001b[1;32m     <a href='vscode-notebook-cell:/home/hippo/Documents/CNN_SVM_Mnist/HD_analysis.ipynb#X31sZmlsZQ%3D%3D?line=40'>41</a>\u001b[0m     \u001b[39mreturn\u001b[39;00m x\n",
      "File \u001b[0;32m~/anaconda3/lib/python3.9/site-packages/torch/nn/modules/module.py:1194\u001b[0m, in \u001b[0;36mModule._call_impl\u001b[0;34m(self, *input, **kwargs)\u001b[0m\n\u001b[1;32m   1190\u001b[0m \u001b[39m# If we don't have any hooks, we want to skip the rest of the logic in\u001b[39;00m\n\u001b[1;32m   1191\u001b[0m \u001b[39m# this function, and just call forward.\u001b[39;00m\n\u001b[1;32m   1192\u001b[0m \u001b[39mif\u001b[39;00m \u001b[39mnot\u001b[39;00m (\u001b[39mself\u001b[39m\u001b[39m.\u001b[39m_backward_hooks \u001b[39mor\u001b[39;00m \u001b[39mself\u001b[39m\u001b[39m.\u001b[39m_forward_hooks \u001b[39mor\u001b[39;00m \u001b[39mself\u001b[39m\u001b[39m.\u001b[39m_forward_pre_hooks \u001b[39mor\u001b[39;00m _global_backward_hooks\n\u001b[1;32m   1193\u001b[0m         \u001b[39mor\u001b[39;00m _global_forward_hooks \u001b[39mor\u001b[39;00m _global_forward_pre_hooks):\n\u001b[0;32m-> 1194\u001b[0m     \u001b[39mreturn\u001b[39;00m forward_call(\u001b[39m*\u001b[39;49m\u001b[39minput\u001b[39;49m, \u001b[39m*\u001b[39;49m\u001b[39m*\u001b[39;49mkwargs)\n\u001b[1;32m   1195\u001b[0m \u001b[39m# Do not call functions when jit is used\u001b[39;00m\n\u001b[1;32m   1196\u001b[0m full_backward_hooks, non_full_backward_hooks \u001b[39m=\u001b[39m [], []\n",
      "File \u001b[0;32m~/anaconda3/lib/python3.9/site-packages/torch/nn/modules/container.py:204\u001b[0m, in \u001b[0;36mSequential.forward\u001b[0;34m(self, input)\u001b[0m\n\u001b[1;32m    202\u001b[0m \u001b[39mdef\u001b[39;00m \u001b[39mforward\u001b[39m(\u001b[39mself\u001b[39m, \u001b[39minput\u001b[39m):\n\u001b[1;32m    203\u001b[0m     \u001b[39mfor\u001b[39;00m module \u001b[39min\u001b[39;00m \u001b[39mself\u001b[39m:\n\u001b[0;32m--> 204\u001b[0m         \u001b[39minput\u001b[39m \u001b[39m=\u001b[39m module(\u001b[39minput\u001b[39;49m)\n\u001b[1;32m    205\u001b[0m     \u001b[39mreturn\u001b[39;00m \u001b[39minput\u001b[39m\n",
      "File \u001b[0;32m~/anaconda3/lib/python3.9/site-packages/torch/nn/modules/module.py:1194\u001b[0m, in \u001b[0;36mModule._call_impl\u001b[0;34m(self, *input, **kwargs)\u001b[0m\n\u001b[1;32m   1190\u001b[0m \u001b[39m# If we don't have any hooks, we want to skip the rest of the logic in\u001b[39;00m\n\u001b[1;32m   1191\u001b[0m \u001b[39m# this function, and just call forward.\u001b[39;00m\n\u001b[1;32m   1192\u001b[0m \u001b[39mif\u001b[39;00m \u001b[39mnot\u001b[39;00m (\u001b[39mself\u001b[39m\u001b[39m.\u001b[39m_backward_hooks \u001b[39mor\u001b[39;00m \u001b[39mself\u001b[39m\u001b[39m.\u001b[39m_forward_hooks \u001b[39mor\u001b[39;00m \u001b[39mself\u001b[39m\u001b[39m.\u001b[39m_forward_pre_hooks \u001b[39mor\u001b[39;00m _global_backward_hooks\n\u001b[1;32m   1193\u001b[0m         \u001b[39mor\u001b[39;00m _global_forward_hooks \u001b[39mor\u001b[39;00m _global_forward_pre_hooks):\n\u001b[0;32m-> 1194\u001b[0m     \u001b[39mreturn\u001b[39;00m forward_call(\u001b[39m*\u001b[39;49m\u001b[39minput\u001b[39;49m, \u001b[39m*\u001b[39;49m\u001b[39m*\u001b[39;49mkwargs)\n\u001b[1;32m   1195\u001b[0m \u001b[39m# Do not call functions when jit is used\u001b[39;00m\n\u001b[1;32m   1196\u001b[0m full_backward_hooks, non_full_backward_hooks \u001b[39m=\u001b[39m [], []\n",
      "File \u001b[0;32m~/anaconda3/lib/python3.9/site-packages/torch/nn/modules/pooling.py:166\u001b[0m, in \u001b[0;36mMaxPool2d.forward\u001b[0;34m(self, input)\u001b[0m\n\u001b[1;32m    165\u001b[0m \u001b[39mdef\u001b[39;00m \u001b[39mforward\u001b[39m(\u001b[39mself\u001b[39m, \u001b[39minput\u001b[39m: Tensor):\n\u001b[0;32m--> 166\u001b[0m     \u001b[39mreturn\u001b[39;00m F\u001b[39m.\u001b[39;49mmax_pool2d(\u001b[39minput\u001b[39;49m, \u001b[39mself\u001b[39;49m\u001b[39m.\u001b[39;49mkernel_size, \u001b[39mself\u001b[39;49m\u001b[39m.\u001b[39;49mstride,\n\u001b[1;32m    167\u001b[0m                         \u001b[39mself\u001b[39;49m\u001b[39m.\u001b[39;49mpadding, \u001b[39mself\u001b[39;49m\u001b[39m.\u001b[39;49mdilation, ceil_mode\u001b[39m=\u001b[39;49m\u001b[39mself\u001b[39;49m\u001b[39m.\u001b[39;49mceil_mode,\n\u001b[1;32m    168\u001b[0m                         return_indices\u001b[39m=\u001b[39;49m\u001b[39mself\u001b[39;49m\u001b[39m.\u001b[39;49mreturn_indices)\n",
      "File \u001b[0;32m~/anaconda3/lib/python3.9/site-packages/torch/_jit_internal.py:485\u001b[0m, in \u001b[0;36mboolean_dispatch.<locals>.fn\u001b[0;34m(*args, **kwargs)\u001b[0m\n\u001b[1;32m    483\u001b[0m     \u001b[39mreturn\u001b[39;00m if_true(\u001b[39m*\u001b[39margs, \u001b[39m*\u001b[39m\u001b[39m*\u001b[39mkwargs)\n\u001b[1;32m    484\u001b[0m \u001b[39melse\u001b[39;00m:\n\u001b[0;32m--> 485\u001b[0m     \u001b[39mreturn\u001b[39;00m if_false(\u001b[39m*\u001b[39;49margs, \u001b[39m*\u001b[39;49m\u001b[39m*\u001b[39;49mkwargs)\n",
      "File \u001b[0;32m~/anaconda3/lib/python3.9/site-packages/torch/nn/functional.py:782\u001b[0m, in \u001b[0;36m_max_pool2d\u001b[0;34m(input, kernel_size, stride, padding, dilation, ceil_mode, return_indices)\u001b[0m\n\u001b[1;32m    780\u001b[0m \u001b[39mif\u001b[39;00m stride \u001b[39mis\u001b[39;00m \u001b[39mNone\u001b[39;00m:\n\u001b[1;32m    781\u001b[0m     stride \u001b[39m=\u001b[39m torch\u001b[39m.\u001b[39mjit\u001b[39m.\u001b[39mannotate(List[\u001b[39mint\u001b[39m], [])\n\u001b[0;32m--> 782\u001b[0m \u001b[39mreturn\u001b[39;00m torch\u001b[39m.\u001b[39;49mmax_pool2d(\u001b[39minput\u001b[39;49m, kernel_size, stride, padding, dilation, ceil_mode)\n",
      "\u001b[0;31mKeyboardInterrupt\u001b[0m: "
     ]
    }
   ],
   "source": [
    "from sklearn.model_selection import GridSearchCV\n",
    "from sklearn.model_selection import ParameterGrid\n",
    "import time \n",
    "'''search_space dictionnary with all the values of hyperparameters we want to test,\n",
    "on divise en deux les hyperparamètres à tester:\n",
    "- un premier espace de recherche pour l'architecture\n",
    "- un deuxième pour la méthode d'optimisation\n",
    "'''\n",
    "WOT_search_space = {\n",
    "    'lr' : [],\n",
    "    'optimizer' : [],\n",
    "    'batche_size' : [],\n",
    "}\n",
    "\n",
    "\n",
    "arch_search_space = {\n",
    "    'kernel1' : [3,5,9],\n",
    "    'kernel2' : [3,5,9],\n",
    "    'pooling' : [nn.MaxPool2d, nn.AvgPool2d],\n",
    "    'nb_channel1' : [8,16,32], \n",
    "    'nb_channel2' : [8,16,32]\n",
    "}\n",
    "\n",
    "\n",
    "#on fait une recherche sur l'espace de recherche de l'architecture\n",
    "best_accuracy = 0.0\n",
    "for config in ParameterGrid(arch_search_space):\n",
    "    device = 'cpu'\n",
    "    model = MyCNN(kernel1 = config[\"kernel1\"], kernel2= config['kernel2']).to(device)\n",
    "    model.name=\"1stConv-\"+str(config)\n",
    "    '''attention il faut que le nom du fichier contienne toutes les infos sur les hyperparamètres utilisés dans le modèle, \n",
    "    pour pouvoir le recharger ensuite (ou bien sauvegarder en plus un fichier de la configuration du modèle utilisé'''\n",
    "    epochs = 5\n",
    "    train(model, epochs, DL_train, DL_val) #ajouter le early stopping !!!!!!!\n",
    "    DL_test = DataLoader(Tdata_val,1,shuffle=True)\n",
    "    acc = model_test(model, DL_test)\n",
    "    \n",
    "    file = model.name\n",
    "    if acc > 0.95:\n",
    "        save_model(model,'models/' + file)\n",
    "    \n",
    "    if acc > best_accuracy:\n",
    "        best_accuracy = acc\n",
    "        best_model = model\n",
    "        best_config = config\n",
    "        best_file = file\n",
    "        with open('models/info_best_model.txt','w') as f:\n",
    "            f.write(best_file)\n",
    "            f.write(str(best_config))\n",
    "            f.write(str(best_accuracy))\n",
    "    \n",
    "\n",
    "\n",
    "\n",
    "\n",
    "# search = GridSearchCV(model,  arch_search_space, n_jobs=2, verbose=0)\n",
    "# search.fit(x_train, y_train)\n"
   ]
  },
  {
   "attachments": {},
   "cell_type": "markdown",
   "metadata": {},
   "source": [
    "### e/ Analysis"
   ]
  },
  {
   "cell_type": "code",
   "execution_count": 12,
   "metadata": {},
   "outputs": [
    {
     "data": {
      "text/plain": [
       "<matplotlib.image.AxesImage at 0x7f5501072d90>"
      ]
     },
     "execution_count": 12,
     "metadata": {},
     "output_type": "execute_result"
    },
    {
     "data": {
      "image/png": "[encoded data removed]",
      "text/plain": [
       "<Figure size 432x288 with 1 Axes>"
      ]
     },
     "metadata": {
      "needs_background": "light"
     },
     "output_type": "display_data"
    }
   ],
   "source": [
    "import matplotlib.pyplot as plt\n",
    "plt.imshow(Tdata_test[0][0][0])\n"
   ]
  },
  {
   "cell_type": "code",
   "execution_count": 13,
   "metadata": {},
   "outputs": [
    {
     "data": {
      "text/plain": [
       "96.5"
      ]
     },
     "execution_count": 13,
     "metadata": {},
     "output_type": "execute_result"
    }
   ],
   "source": [
    "'''Pour utiliser un modèle une fois qu'il est tester... Comment on le fait proprement ? \n",
    "Parce que là j'ai l'impression d'être obliger d'uitliser le dataLoader avec des batch de 1 c'est bizarre'''\n",
    "test = DataLoader(Tdata_val,1,shuffle=True)\n",
    "#on load le modèle\n",
    "device = 'cpu'\n",
    "model = MyCNN().to(device)\n",
    "load_model(\"models/1stConv-Fri Dec 23 01:25:40 2022\", model)\n",
    "model_test(model, test)\n"
   ]
  },
  {
   "attachments": {},
   "cell_type": "markdown",
   "metadata": {},
   "source": [
    "## 2/ Optimisation d'un SVM\n",
    "\n",
    "Cette section à pour but de mettre en pratique la méthode de GridSearch. "
   ]
  },
  {
   "cell_type": "code",
   "execution_count": 61,
   "metadata": {},
   "outputs": [],
   "source": [
    "#importation packages\n",
    "import pandas as pd\n",
    "from sklearn.model_selection import train_test_split\n",
    "from sklearn.metrics import accuracy_score\n",
    "from sklearn import svm\n",
    "from sklearn.metrics import accuracy_score\n",
    "import numpy as np\n",
    "from matplotlib import pyplot as plt\n",
    "\n"
   ]
  },
  {
   "cell_type": "code",
   "execution_count": 112,
   "metadata": {},
   "outputs": [],
   "source": [
    "#transformations des données en x et y\n",
    "def data_transform(data):\n",
    "    y = data['label'].values\n",
    "    x = data.drop('label', axis=1).values\n",
    "    return x,y\n",
    "\n",
    "x_train, y_train = data_transform(data_train)\n",
    "x_test, y_test = data_transform(data_val)"
   ]
  },
  {
   "cell_type": "code",
   "execution_count": null,
   "metadata": {},
   "outputs": [],
   "source": [
    "'''on teste combien il faut d'image pour bien construire un SVM'''\n",
    "list_acc = []\n",
    "list_nb_data = []\n",
    "for i in range (100,1000,50):\n",
    "    xtrain = x_train[:i,:]\n",
    "    nb_data = xtrain.shape[0]\n",
    "    print(nb_data)\n",
    "    ytrain = y_train[:i]\n",
    "    xtest = x_test[:,:]\n",
    "    classif = svm.SVC()\n",
    "    classif.fit(xtrain, ytrain)\n",
    "    ypred = classif.predict(x_test)\n",
    "    list_nb_data.append(nb_data)\n",
    "    list_acc.append(accuracy_score(y_test, ypred))\n",
    "    print(accuracy_score(y_test, ypred))\n",
    "\n",
    "plt.plot(list_nb_data, list_acc)"
   ]
  },
  {
   "cell_type": "code",
   "execution_count": 130,
   "metadata": {},
   "outputs": [],
   "source": [
    "'''Ayant des ressources de calcul limitées, on ne peut pas tester avec un grand nombre d'image...\n",
    "attention car plus le modèle est grand plus il faut de données pour bien l'entrainer\n",
    "'''\n",
    "x_train = x_train[:,:]\n",
    "y_train = y_train[:]\n",
    "x_test = x_test[:,:]"
   ]
  },
  {
   "attachments": {},
   "cell_type": "markdown",
   "metadata": {},
   "source": [
    "### a/ Premier SVM \n"
   ]
  },
  {
   "cell_type": "code",
   "execution_count": 131,
   "metadata": {},
   "outputs": [
    {
     "name": "stdout",
     "output_type": "stream",
     "text": [
      "0.9121428571428571\n"
     ]
    },
    {
     "data": {
      "text/plain": [
       "<matplotlib.image.AxesImage at 0x7fcafd7b5f10>"
      ]
     },
     "execution_count": 131,
     "metadata": {},
     "output_type": "execute_result"
    },
    {
     "data": {
      "image/png": "[encoded data removed]",
      "text/plain": [
       "<Figure size 432x288 with 1 Axes>"
      ]
     },
     "metadata": {
      "needs_background": "light"
     },
     "output_type": "display_data"
    }
   ],
   "source": [
    "classif = svm.SVC()\n",
    "\n",
    "# on fit le model à x_triain et y_train\n",
    "classif.fit(x_train, y_train)\n",
    "\n",
    "# on prédit les valeurs de y_test\n",
    "y_pred = classif.predict(x_test)\n",
    "\n",
    "# on calcule le score de précision multilabel\n",
    "print(accuracy_score(y_test, y_pred))\n",
    "\n",
    "\n",
    "\n",
    "from sklearn.metrics import confusion_matrix\n",
    "confusion = confusion_matrix(y_test, y_pred)\n",
    "#affichage matrice avec pyplot\n",
    "plt.xlabel('prediction')\n",
    "plt.ylabel('label')\n",
    "# à rajouter le nombre d'image dans chaque case de la matrice\n",
    "plt.imshow(confusion)"
   ]
  },
  {
   "attachments": {},
   "cell_type": "markdown",
   "metadata": {},
   "source": [
    "### b/ Optimisation SVM "
   ]
  },
  {
   "cell_type": "code",
   "execution_count": 134,
   "metadata": {},
   "outputs": [
    {
     "data": {
      "text/plain": [
       "GridSearchCV(estimator=SVC(), n_jobs=2,\n",
       "             param_grid=[{'C': [0.1, 0.5, 1, 2, 5],\n",
       "                          'degree': [2, 3, 4, 5, 6, 10], 'kernel': ['poly']},\n",
       "                         {'kernel': ['linear']}])"
      ]
     },
     "execution_count": 134,
     "metadata": {},
     "output_type": "execute_result"
    }
   ],
   "source": [
    "from sklearn.model_selection import GridSearchCV\n",
    "from sklearn.model_selection import ParameterGrid\n",
    "\n",
    "\n",
    "### MISE EN PLACE DE LA CHAINE ###\n",
    "classif = svm.SVC()\n",
    "\n",
    "# liste de tuples: titre + objet \n",
    "#pipe = Pipeline([('selvar',selector),('classif',classif)])\n",
    "\n",
    "\n",
    "grid = [\n",
    "    #{\"kernel\": [\"sigmoid\"], \"C\": [0.1, 0.5, 1, 2, 5]},\n",
    "    {\"kernel\": [\"poly\"], \"degree\": [2, 3, 4, 5, 6,10], \"C\": [0.1, 0.5, 1, 2, 5]},\n",
    "    #{\"kernel\": [\"rbf\"],\"gamma\": [0.1, 0.5, 1, 2, 5],  },\n",
    "    {\"kernel\": [\"linear\"]},\n",
    "]\n",
    "\n",
    "# param_grid = list(ParameterGrid(grid))\n",
    "# print(len(param_grid))\n",
    "\n",
    "search = GridSearchCV(classif, grid, n_jobs=2, verbose=0)\n",
    "search.fit(x_train, y_train)\n"
   ]
  },
  {
   "cell_type": "code",
   "execution_count": 135,
   "metadata": {},
   "outputs": [
    {
     "name": "stdout",
     "output_type": "stream",
     "text": [
      "Best parameter (CV score=0.904):\n",
      "{'C': 5, 'degree': 2, 'kernel': 'poly'}\n",
      "[0.77  0.692 0.565 0.484 0.418 0.298 0.887 0.837 0.75  0.674 0.583 0.383\n",
      " 0.897 0.864 0.788 0.714 0.632 0.408 0.903 0.878 0.811 0.734 0.669 0.441\n",
      " 0.904 0.887 0.832 0.757 0.693 0.471 0.88 ]\n"
     ]
    }
   ],
   "source": [
    "print(\"Best parameter (CV score=%0.3f):\" % search.best_score_)\n",
    "print(search.best_params_)\n",
    "print(search.cv_results_['mean_test_score'])"
   ]
  },
  {
   "attachments": {},
   "cell_type": "markdown",
   "metadata": {},
   "source": [
    "### c/ méthode d'ensemble "
   ]
  },
  {
   "cell_type": "code",
   "execution_count": 2,
   "metadata": {},
   "outputs": [
    {
     "ename": "NameError",
     "evalue": "name 'MyCNN' is not defined",
     "output_type": "error",
     "traceback": [
      "\u001b[0;31m---------------------------------------------------------------------------\u001b[0m",
      "\u001b[0;31mNameError\u001b[0m                                 Traceback (most recent call last)",
      "\u001b[1;32m/home/hippo/Documents/CNN_SVM_Mnist/HD_analysis.ipynb Cellule 38\u001b[0m in \u001b[0;36m<cell line: 3>\u001b[0;34m()\u001b[0m\n\u001b[1;32m      <a href='vscode-notebook-cell:/home/hippo/Documents/CNN_SVM_Mnist/HD_analysis.ipynb#X52sZmlsZQ%3D%3D?line=0'>1</a>\u001b[0m \u001b[39m#on load le meilleur des modèles que l'on ait pu entrainer en faisant notre GridSearch.\u001b[39;00m\n\u001b[1;32m      <a href='vscode-notebook-cell:/home/hippo/Documents/CNN_SVM_Mnist/HD_analysis.ipynb#X52sZmlsZQ%3D%3D?line=1'>2</a>\u001b[0m file \u001b[39m=\u001b[39m \u001b[39m'\u001b[39m\u001b[39m1stConv-Fri Dec 23 01:25:40 2022\u001b[39m\u001b[39m'\u001b[39m\n\u001b[0;32m----> <a href='vscode-notebook-cell:/home/hippo/Documents/CNN_SVM_Mnist/HD_analysis.ipynb#X52sZmlsZQ%3D%3D?line=2'>3</a>\u001b[0m model \u001b[39m=\u001b[39m MyCNN()\n\u001b[1;32m      <a href='vscode-notebook-cell:/home/hippo/Documents/CNN_SVM_Mnist/HD_analysis.ipynb#X52sZmlsZQ%3D%3D?line=3'>4</a>\u001b[0m load_model(\u001b[39m'\u001b[39m\u001b[39mmodels/\u001b[39m\u001b[39m'\u001b[39m \u001b[39m+\u001b[39m file, model)\n",
      "\u001b[0;31mNameError\u001b[0m: name 'MyCNN' is not defined"
     ]
    }
   ],
   "source": [
    "#on load le meilleur des modèles que l'on ait pu entrainer en faisant notre GridSearch.\n",
    "file = '1stConv-Fri Dec 23 01:25:40 2022'\n",
    "model = MyCNN()\n",
    "load_model('models/' + file, model) \n"
   ]
  },
  {
   "attachments": {},
   "cell_type": "markdown",
   "metadata": {},
   "source": [
    "## 3/ GAN model generating digit "
   ]
  },
  {
   "attachments": {},
   "cell_type": "markdown",
   "metadata": {},
   "source": [
    "See the others notebooks on my Github"
   ]
  },
  {
   "cell_type": "code",
   "execution_count": null,
   "metadata": {},
   "outputs": [],
   "source": [
    "#on charge un GAN prentrainé de pytorch\n",
    "from torchvision import models\n",
    "model = models.dcgan.dcgan_generator(100, 3, 64)"
   ]
  },
  {
   "cell_type": "code",
   "execution_count": null,
   "metadata": {},
   "outputs": [],
   "source": [
    "#on affiche les variables de l'environnement\n",
    "%who"
   ]
  }
 ],
 "metadata": {
  "kernelspec": {
   "display_name": "base",
   "language": "python",
   "name": "python3"
  },
  "language_info": {
   "codemirror_mode": {
    "name": "ipython",
    "version": 3
   },
   "file_extension": ".py",
   "mimetype": "text/x-python",
   "name": "python",
   "nbconvert_exporter": "python",
   "pygments_lexer": "ipython3",
   "version": "3.9.12 (main, Apr  5 2022, 06:56:58) \n[GCC 7.5.0]"
  },
  "orig_nbformat": 4,
  "vscode": {
   "interpreter": {
    "hash": "baacd7ded0742aa8408bda3ed6ced71320ba4869ece4e05e453d0cf31ed1376f"
   }
  }
 },
 "nbformat": 4,
 "nbformat_minor": 2
}
